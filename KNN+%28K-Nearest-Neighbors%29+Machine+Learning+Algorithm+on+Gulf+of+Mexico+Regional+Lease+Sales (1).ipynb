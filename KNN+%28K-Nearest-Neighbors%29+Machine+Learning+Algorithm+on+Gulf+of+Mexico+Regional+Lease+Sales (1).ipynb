{
 "cells": [
  {
   "cell_type": "markdown",
   "metadata": {},
   "source": [
    "# KNN (K-Nearest-Neighbors) Machine Learning Algorithm on Gulf of Mexico Regional Lease Sales"
   ]
  },
  {
   "cell_type": "markdown",
   "metadata": {},
   "source": [
    "In this study we use k-Nearest Neighbor classification method to see if we can predict the outcome of offshore lease sales in Unite States Gulf of Mexico. Explanatory features selected here are water depth, historic lease sale, historic bonuses paid, working interests and companies participated.\n",
    "\n",
    "Source: https://www.boem.gov/Gulf-of-Mexico-Region-Leasing-Information/"
   ]
  },
  {
   "cell_type": "code",
   "execution_count": 45,
   "metadata": {
    "scrolled": true
   },
   "outputs": [
    {
     "data": {
      "text/html": [
       "<div>\n",
       "<style>\n",
       "    .dataframe thead tr:only-child th {\n",
       "        text-align: right;\n",
       "    }\n",
       "\n",
       "    .dataframe thead th {\n",
       "        text-align: left;\n",
       "    }\n",
       "\n",
       "    .dataframe tbody tr th {\n",
       "        vertical-align: top;\n",
       "    }\n",
       "</style>\n",
       "<table border=\"1\" class=\"dataframe\">\n",
       "  <thead>\n",
       "    <tr style=\"text-align: right;\">\n",
       "      <th></th>\n",
       "      <th>block_id_num</th>\n",
       "      <th>block</th>\n",
       "      <th>bonus_mill</th>\n",
       "      <th>pre_1990</th>\n",
       "      <th>1990_2000</th>\n",
       "      <th>2000_2010</th>\n",
       "      <th>2010_2018</th>\n",
       "      <th>0_1k_wd</th>\n",
       "      <th>1k_2k_wd</th>\n",
       "      <th>2k_3k_wd</th>\n",
       "      <th>...</th>\n",
       "      <th>Statoil</th>\n",
       "      <th>Chevron</th>\n",
       "      <th>BHP</th>\n",
       "      <th>Shell</th>\n",
       "      <th>BP</th>\n",
       "      <th>Exxon</th>\n",
       "      <th>ENI</th>\n",
       "      <th>Total</th>\n",
       "      <th>major_comp</th>\n",
       "      <th>wd_ft</th>\n",
       "    </tr>\n",
       "  </thead>\n",
       "  <tbody>\n",
       "    <tr>\n",
       "      <th>0</th>\n",
       "      <td>1</td>\n",
       "      <td>AC 0024</td>\n",
       "      <td>0.201</td>\n",
       "      <td>1</td>\n",
       "      <td>0</td>\n",
       "      <td>0</td>\n",
       "      <td>0</td>\n",
       "      <td>0</td>\n",
       "      <td>0</td>\n",
       "      <td>0</td>\n",
       "      <td>...</td>\n",
       "      <td>0</td>\n",
       "      <td>0</td>\n",
       "      <td>0</td>\n",
       "      <td>0</td>\n",
       "      <td>0</td>\n",
       "      <td>1</td>\n",
       "      <td>0</td>\n",
       "      <td>0</td>\n",
       "      <td>1</td>\n",
       "      <td>4842</td>\n",
       "    </tr>\n",
       "    <tr>\n",
       "      <th>1</th>\n",
       "      <td>2</td>\n",
       "      <td>AC 0025</td>\n",
       "      <td>3.232</td>\n",
       "      <td>1</td>\n",
       "      <td>0</td>\n",
       "      <td>0</td>\n",
       "      <td>0</td>\n",
       "      <td>0</td>\n",
       "      <td>0</td>\n",
       "      <td>0</td>\n",
       "      <td>...</td>\n",
       "      <td>0</td>\n",
       "      <td>0</td>\n",
       "      <td>0</td>\n",
       "      <td>0</td>\n",
       "      <td>0</td>\n",
       "      <td>1</td>\n",
       "      <td>0</td>\n",
       "      <td>0</td>\n",
       "      <td>1</td>\n",
       "      <td>4793</td>\n",
       "    </tr>\n",
       "  </tbody>\n",
       "</table>\n",
       "<p>2 rows × 26 columns</p>\n",
       "</div>"
      ],
      "text/plain": [
       "   block_id_num    block  bonus_mill  pre_1990  1990_2000  2000_2010  \\\n",
       "0             1  AC 0024       0.201         1          0          0   \n",
       "1             2  AC 0025       3.232         1          0          0   \n",
       "\n",
       "   2010_2018  0_1k_wd  1k_2k_wd  2k_3k_wd  ...    Statoil  Chevron  BHP  \\\n",
       "0          0        0         0         0  ...          0        0    0   \n",
       "1          0        0         0         0  ...          0        0    0   \n",
       "\n",
       "   Shell  BP  Exxon  ENI  Total  major_comp  wd_ft  \n",
       "0      0   0      1    0      0           1   4842  \n",
       "1      0   0      1    0      0           1   4793  \n",
       "\n",
       "[2 rows x 26 columns]"
      ]
     },
     "execution_count": 45,
     "metadata": {},
     "output_type": "execute_result"
    }
   ],
   "source": [
    "import numpy as np\n",
    "import pandas as pd\n",
    "import matplotlib.pyplot as plt\n",
    "import scipy\n",
    "%matplotlib inline\n",
    "\n",
    "path1 = (\"deleted C:/lease_data_for_knn4.csv\")\n",
    "ratings = pd.read_csv(path1, sep=',')\n",
    "ratings.head(2)"
   ]
  },
  {
   "cell_type": "markdown",
   "metadata": {},
   "source": [
    "Below we group everything by block IDs and compute the total number of ratings (bonuses paid in $mill) and the average rating for every block:"
   ]
  },
  {
   "cell_type": "code",
   "execution_count": 46,
   "metadata": {
    "scrolled": true
   },
   "outputs": [
    {
     "data": {
      "text/html": [
       "<div>\n",
       "<style>\n",
       "    .dataframe thead tr:only-child th {\n",
       "        text-align: right;\n",
       "    }\n",
       "\n",
       "    .dataframe thead th {\n",
       "        text-align: left;\n",
       "    }\n",
       "\n",
       "    .dataframe tbody tr th {\n",
       "        vertical-align: top;\n",
       "    }\n",
       "</style>\n",
       "<table border=\"1\" class=\"dataframe\">\n",
       "  <thead>\n",
       "    <tr>\n",
       "      <th></th>\n",
       "      <th colspan=\"2\" halign=\"left\">bonus_mill</th>\n",
       "    </tr>\n",
       "    <tr>\n",
       "      <th></th>\n",
       "      <th>size</th>\n",
       "      <th>mean</th>\n",
       "    </tr>\n",
       "    <tr>\n",
       "      <th>block_id_num</th>\n",
       "      <th></th>\n",
       "      <th></th>\n",
       "    </tr>\n",
       "  </thead>\n",
       "  <tbody>\n",
       "    <tr>\n",
       "      <th>1</th>\n",
       "      <td>1.0</td>\n",
       "      <td>0.201</td>\n",
       "    </tr>\n",
       "    <tr>\n",
       "      <th>2</th>\n",
       "      <td>2.0</td>\n",
       "      <td>3.232</td>\n",
       "    </tr>\n",
       "    <tr>\n",
       "      <th>3</th>\n",
       "      <td>2.0</td>\n",
       "      <td>0.601</td>\n",
       "    </tr>\n",
       "  </tbody>\n",
       "</table>\n",
       "</div>"
      ],
      "text/plain": [
       "             bonus_mill       \n",
       "                   size   mean\n",
       "block_id_num                  \n",
       "1                   1.0  0.201\n",
       "2                   2.0  3.232\n",
       "3                   2.0  0.601"
      ]
     },
     "execution_count": 46,
     "metadata": {},
     "output_type": "execute_result"
    }
   ],
   "source": [
    "BlockProperties = ratings.groupby('block_id_num').agg({'bonus_mill': [np.size, np.mean]})\n",
    "BlockProperties.head(3)"
   ]
  },
  {
   "cell_type": "markdown",
   "metadata": {},
   "source": [
    "The raw number of ratings or bonuses paid are useful for computing distances between blocks, however because these amounts are paid over time based on different circumstance such as prevalent oil price or geological understanding of that area, it is better we normalize them. Below we create a new DataFrame that contains the normalized number of ratings. So, a value of 0 means no company paid any amount, and a value of 1 will mean it's the most attractive block within that lease sale."
   ]
  },
  {
   "cell_type": "code",
   "execution_count": 47,
   "metadata": {
    "scrolled": true
   },
   "outputs": [
    {
     "data": {
      "text/html": [
       "<div>\n",
       "<style>\n",
       "    .dataframe thead tr:only-child th {\n",
       "        text-align: right;\n",
       "    }\n",
       "\n",
       "    .dataframe thead th {\n",
       "        text-align: left;\n",
       "    }\n",
       "\n",
       "    .dataframe tbody tr th {\n",
       "        vertical-align: top;\n",
       "    }\n",
       "</style>\n",
       "<table border=\"1\" class=\"dataframe\">\n",
       "  <thead>\n",
       "    <tr style=\"text-align: right;\">\n",
       "      <th></th>\n",
       "      <th>size</th>\n",
       "    </tr>\n",
       "    <tr>\n",
       "      <th>block_id_num</th>\n",
       "      <th></th>\n",
       "    </tr>\n",
       "  </thead>\n",
       "  <tbody>\n",
       "    <tr>\n",
       "      <th>1</th>\n",
       "      <td>0.000000</td>\n",
       "    </tr>\n",
       "    <tr>\n",
       "      <th>2</th>\n",
       "      <td>0.033333</td>\n",
       "    </tr>\n",
       "    <tr>\n",
       "      <th>3</th>\n",
       "      <td>0.033333</td>\n",
       "    </tr>\n",
       "    <tr>\n",
       "      <th>4</th>\n",
       "      <td>0.000000</td>\n",
       "    </tr>\n",
       "    <tr>\n",
       "      <th>5</th>\n",
       "      <td>0.000000</td>\n",
       "    </tr>\n",
       "  </tbody>\n",
       "</table>\n",
       "</div>"
      ],
      "text/plain": [
       "                  size\n",
       "block_id_num          \n",
       "1             0.000000\n",
       "2             0.033333\n",
       "3             0.033333\n",
       "4             0.000000\n",
       "5             0.000000"
      ]
     },
     "execution_count": 47,
     "metadata": {},
     "output_type": "execute_result"
    }
   ],
   "source": [
    "BlockNumRatings = pd.DataFrame(BlockProperties['bonus_mill']['size'])\n",
    "BlockNormalizedNumRatings = BlockNumRatings.apply(lambda x: (x - np.min(x)) / (np.max(x) - np.min(x)))\n",
    "BlockNormalizedNumRatings.head()"
   ]
  },
  {
   "cell_type": "markdown",
   "metadata": {},
   "source": [
    "Next we import features such as different levels of water depth, working interests and names of major oil companies that particiapted in the lease sales over years."
   ]
  },
  {
   "cell_type": "code",
   "execution_count": 48,
   "metadata": {
    "collapsed": true,
    "scrolled": true
   },
   "outputs": [],
   "source": [
    "with open(path1) as f:\n",
    "    next(f, None) # Skip heading\n",
    "    temp = ''\n",
    "    for line in f:\n",
    "        fields = line.rstrip('\\n').split(',')\n",
    "        BlockID = int(fields[0])\n",
    "        name = fields[1]"
   ]
  },
  {
   "cell_type": "code",
   "execution_count": 49,
   "metadata": {
    "collapsed": true,
    "scrolled": true
   },
   "outputs": [],
   "source": [
    "BlockDict = {}\n",
    "with open(path2) as f:\n",
    "    next(f, None) # Skip heading\n",
    "    temp = ''\n",
    "    for line in f:\n",
    "        fields = line.rstrip('\\n').split(',')\n",
    "        BlockID = int(fields[0])\n",
    "        Blockname = fields[1]\n",
    "        features = fields[3:23]\n",
    "        features = list(map(int, features))\n",
    "        BlockDict[BlockID] = (Blockname, features, BlockNormalizedNumRatings.loc[BlockID].get('size'), BlockProperties.loc[BlockID].bonus_mill.get('mean'))\n"
   ]
  },
  {
   "cell_type": "markdown",
   "metadata": {},
   "source": [
    "Next we define a function that measures the \"distance\" (=similarity) between two blocks based on how similar their features are, and how similar their bonus payment is. We test this on two block ID's 2 and 4:"
   ]
  },
  {
   "cell_type": "code",
   "execution_count": 50,
   "metadata": {
    "scrolled": true
   },
   "outputs": [
    {
     "data": {
      "text/plain": [
       "1.0333333333333334"
      ]
     },
     "execution_count": 50,
     "metadata": {},
     "output_type": "execute_result"
    }
   ],
   "source": [
    "from scipy import spatial\n",
    "\n",
    "def ComputeDistance(a, b):\n",
    "    featuresA = a[1]\n",
    "    featuresB = b[1]\n",
    "    BlockDistance = spatial.distance.cosine(featuresA, featuresB)\n",
    "    popularityA = a[2]\n",
    "    popularityB = b[2]\n",
    "    popularityDistance = abs(popularityA - popularityB)\n",
    "    return BlockDistance + popularityDistance\n",
    "    \n",
    "ComputeDistance(BlockDict[2], BlockDict[4])  # Measure the distance between block IDs 2 and 4\n"
   ]
  },
  {
   "cell_type": "markdown",
   "metadata": {},
   "source": [
    "Mind the higher the distance, the less similar the blocks are. Next we check what blocks 2 and 4 actually are - and confirm they're not really all that similar:"
   ]
  },
  {
   "cell_type": "markdown",
   "metadata": {},
   "source": [
    "Next we compute the distance between some given test blocks and all of the blocks in our data set. Then we sort those by distance, and print out the K nearest neighbors:"
   ]
  },
  {
   "cell_type": "code",
   "execution_count": 51,
   "metadata": {
    "collapsed": true,
    "scrolled": true
   },
   "outputs": [],
   "source": [
    "import operator\n",
    "\n",
    "def getNeighbors(BlockID, K): # One measure of distance\n",
    "    distances = []\n",
    "    for Block in BlockDict:\n",
    "        if (Block != BlockID):\n",
    "            dist = ComputeDistance(BlockDict[BlockID], BlockDict[Block])\n",
    "            distances.append((Block, dist))\n",
    "    distances.sort(key=operator.itemgetter(1))\n",
    "    neighbors = []\n",
    "    for x in range(K):\n",
    "        neighbors.append(distances[x][0])\n",
    "    return neighbors"
   ]
  },
  {
   "cell_type": "code",
   "execution_count": 52,
   "metadata": {
    "scrolled": true
   },
   "outputs": [
    {
     "name": "stdout",
     "output_type": "stream",
     "text": [
      "AC 0817 0.754196\n",
      "AC 0861 0.781579\n",
      "GC 0845 1.546207\n",
      "GC 0846 1.421691\n",
      "GC 0847 0.749608\n",
      "GC 0848 0.997122\n",
      "GC 0890 1.215308\n",
      "GC 0891 0.749608\n",
      "GC 0993 0.615\n",
      "KC 0084 0.749608\n"
     ]
    }
   ],
   "source": [
    "K = 10\n",
    "avgRating = 0\n",
    "neighbors = getNeighbors(1322, K)       # Testing block #20 with K=3\n",
    "for neighbor in neighbors:\n",
    "    avgRating += BlockDict[neighbor][3]\n",
    "    print (BlockDict[neighbor][0] + ' ' + str(BlockDict[neighbor][3]))\n",
    "\n",
    "avgRating = float(K)"
   ]
  },
  {
   "cell_type": "code",
   "execution_count": null,
   "metadata": {
    "collapsed": true,
    "scrolled": false
   },
   "outputs": [],
   "source": []
  },
  {
   "cell_type": "markdown",
   "metadata": {},
   "source": [
    "Our choice of 10 for K was arbitrary - what effect do different K values have on the results?\n",
    "\n",
    "Our distance metric was also somewhat arbitrary - we just took the cosine distance between the blocks and added it to the difference between the normalized popularity scores. Can you improve on that?"
   ]
  },
  {
   "cell_type": "markdown",
   "metadata": {
    "collapsed": true
   },
   "source": [
    "<h3> Let's try sklearn and see if we can predict major oil companies' behavior using features of water depth and amount of bonuses paid. The deeper the water depth the more capital intensive and technologically complex a discovery will be. Such discoveries are usually manageable only by major oil companies.</h3>"
   ]
  },
  {
   "cell_type": "code",
   "execution_count": 53,
   "metadata": {
    "scrolled": true
   },
   "outputs": [
    {
     "data": {
      "image/png": "[encoded data removed]",
      "text/plain": [
       "<matplotlib.figure.Figure at 0x1093be48>"
      ]
     },
     "metadata": {},
     "output_type": "display_data"
    }
   ],
   "source": [
    "# Looking at data\n",
    "\n",
    "plt.scatter(\n",
    "    ratings[ratings['major_comp'] == 1].bonus_mill,\n",
    "    ratings[ratings['major_comp'] == 1].wd_ft,\n",
    "    color= 'black'\n",
    ")\n",
    "plt.scatter(\n",
    "    ratings[ratings['major_comp'] == 0].bonus_mill,\n",
    "    ratings[ratings['major_comp'] == 0].wd_ft,\n",
    "    color='pink'\n",
    ")\n",
    "     \n",
    "plt.legend(['Major Oil Companies', ' Other Companies'])\n",
    "plt.title('Major Oil Companies and Other Companies Characteristics')\n",
    "plt.xlabel('Bonus Mill')\n",
    "plt.ylabel('Water depth ft')\n",
    "plt.show()"
   ]
  },
  {
   "cell_type": "code",
   "execution_count": 54,
   "metadata": {
    "scrolled": true
   },
   "outputs": [
    {
     "name": "stderr",
     "output_type": "stream",
     "text": [
      "C:\\Users\\aath\\AppData\\Local\\Continuum\\anaconda3\\lib\\site-packages\\ipykernel_launcher.py:2: DeprecationWarning: \n",
      ".ix is deprecated. Please use\n",
      ".loc for label based indexing or\n",
      ".iloc for positional indexing\n",
      "\n",
      "See the documentation here:\n",
      "http://pandas.pydata.org/pandas-docs/stable/indexing.html#ix-indexer-is-deprecated\n",
      "  \n"
     ]
    }
   ],
   "source": [
    "# Below we select a subset of original features table\n",
    "df = pd.concat([ratings.ix[:,2],ratings.ix[:,25], ratings.ix[:,24]], axis=1)"
   ]
  },
  {
   "cell_type": "code",
   "execution_count": 55,
   "metadata": {
    "scrolled": false
   },
   "outputs": [
    {
     "data": {
      "text/html": [
       "<div>\n",
       "<style>\n",
       "    .dataframe thead tr:only-child th {\n",
       "        text-align: right;\n",
       "    }\n",
       "\n",
       "    .dataframe thead th {\n",
       "        text-align: left;\n",
       "    }\n",
       "\n",
       "    .dataframe tbody tr th {\n",
       "        vertical-align: top;\n",
       "    }\n",
       "</style>\n",
       "<table border=\"1\" class=\"dataframe\">\n",
       "  <thead>\n",
       "    <tr style=\"text-align: right;\">\n",
       "      <th></th>\n",
       "      <th>bonus_mill</th>\n",
       "      <th>wd_ft</th>\n",
       "      <th>major_comp</th>\n",
       "    </tr>\n",
       "  </thead>\n",
       "  <tbody>\n",
       "    <tr>\n",
       "      <th>0</th>\n",
       "      <td>0.201</td>\n",
       "      <td>4842</td>\n",
       "      <td>1</td>\n",
       "    </tr>\n",
       "    <tr>\n",
       "      <th>1</th>\n",
       "      <td>3.232</td>\n",
       "      <td>4793</td>\n",
       "      <td>1</td>\n",
       "    </tr>\n",
       "    <tr>\n",
       "      <th>2</th>\n",
       "      <td>3.232</td>\n",
       "      <td>4793</td>\n",
       "      <td>1</td>\n",
       "    </tr>\n",
       "    <tr>\n",
       "      <th>3</th>\n",
       "      <td>0.601</td>\n",
       "      <td>4583</td>\n",
       "      <td>1</td>\n",
       "    </tr>\n",
       "    <tr>\n",
       "      <th>4</th>\n",
       "      <td>0.601</td>\n",
       "      <td>4583</td>\n",
       "      <td>1</td>\n",
       "    </tr>\n",
       "  </tbody>\n",
       "</table>\n",
       "</div>"
      ],
      "text/plain": [
       "   bonus_mill  wd_ft  major_comp\n",
       "0       0.201   4842           1\n",
       "1       3.232   4793           1\n",
       "2       3.232   4793           1\n",
       "3       0.601   4583           1\n",
       "4       0.601   4583           1"
      ]
     },
     "execution_count": 55,
     "metadata": {},
     "output_type": "execute_result"
    }
   ],
   "source": [
    "df.head()"
   ]
  },
  {
   "cell_type": "code",
   "execution_count": 56,
   "metadata": {
    "collapsed": true,
    "scrolled": true
   },
   "outputs": [],
   "source": [
    "X0 = df.iloc[:,0:2] # Bonus paid and water depth of lease block\n",
    "Y = df.iloc[:,2]  # 1 if lease bidder was a major oil company and 0 otherwise"
   ]
  },
  {
   "cell_type": "code",
   "execution_count": 57,
   "metadata": {
    "collapsed": true,
    "scrolled": true
   },
   "outputs": [],
   "source": [
    "# Here we normalize X values \n",
    "from sklearn import preprocessing\n",
    "\n",
    "x = X0.values #returns a numpy array\n",
    "min_max_scaler = preprocessing.MinMaxScaler()\n",
    "x_scaled = min_max_scaler.fit_transform(x)\n",
    "X0 = pd.DataFrame(x_scaled)"
   ]
  },
  {
   "cell_type": "code",
   "execution_count": 58,
   "metadata": {
    "scrolled": true
   },
   "outputs": [
    {
     "data": {
      "text/plain": [
       "KNeighborsClassifier(algorithm='auto', leaf_size=30, metric='minkowski',\n",
       "           metric_params=None, n_jobs=1, n_neighbors=5, p=2,\n",
       "           weights='uniform')"
      ]
     },
     "execution_count": 58,
     "metadata": {},
     "output_type": "execute_result"
    }
   ],
   "source": [
    "from sklearn.neighbors import KNeighborsClassifier\n",
    "from scipy import stats\n",
    "\n",
    "# Fit the model\n",
    "neighbors = KNeighborsClassifier(n_neighbors=5)\n",
    "neighbors.fit(X0,Y)"
   ]
  },
  {
   "cell_type": "code",
   "execution_count": 59,
   "metadata": {
    "scrolled": true
   },
   "outputs": [
    {
     "data": {
      "image/png": "[encoded data removed]",
      "text/plain": [
       "<matplotlib.figure.Figure at 0x108157b8>"
      ]
     },
     "metadata": {},
     "output_type": "display_data"
    }
   ],
   "source": [
    "# Arrays, not data frames, for the mesh.\n",
    "X = np.array(X0)\n",
    "Y = np.array(Y)\n",
    "\n",
    "# Mesh size.\n",
    "h = 0.01\n",
    "\n",
    "# Plot the decision boundary. We assign a color to each point in the mesh.\n",
    "x_min = X[:,0].min() - .1\n",
    "x_max = X[:,0].max() + .1\n",
    "y_min = X[:,1].min() - .1\n",
    "y_max = X[:,1].max() + .1\n",
    "xx, yy = np.meshgrid(\n",
    "    np.arange(x_min, x_max, h),\n",
    "    np.arange(y_min, y_max, h)\n",
    ")\n",
    "Z = neighbors.predict(np.c_[xx.ravel(), yy.ravel()])\n",
    "\n",
    "# Put the result into a color plot\n",
    "Z = Z.reshape(xx.shape)\n",
    "plt.figure(1, figsize=(6, 4))\n",
    "plt.set_cmap(plt.cm.Paired)\n",
    "plt.pcolormesh(xx, yy, Z)\n",
    "\n",
    "# Add the training points to the plot.\n",
    "plt.scatter(X[:, 0], X[:, 1], c=Y)\n",
    "plt.xlabel('Bonus mill$')\n",
    "plt.ylabel('Water depth')\n",
    "\n",
    "plt.xlim(xx.min(), xx.max())\n",
    "plt.ylim(yy.min(), yy.max())\n",
    "\n",
    "plt.show()"
   ]
  },
  {
   "cell_type": "markdown",
   "metadata": {},
   "source": [
    "We do not see a clear boundry on lower side of water depth and bonus payments. However, on the higher side, we see a tendency that major oil companies are the most active players in that space. "
   ]
  },
  {
   "cell_type": "markdown",
   "metadata": {},
   "source": [
    "# Let's try KNN Regression on water depth and bonus paid"
   ]
  },
  {
   "cell_type": "code",
   "execution_count": 60,
   "metadata": {
    "scrolled": true
   },
   "outputs": [
    {
     "data": {
      "text/plain": [
       "KNeighborsRegressor(algorithm='auto', leaf_size=30, metric='minkowski',\n",
       "          metric_params=None, n_jobs=1, n_neighbors=10, p=2,\n",
       "          weights='uniform')"
      ]
     },
     "execution_count": 60,
     "metadata": {},
     "output_type": "execute_result"
    }
   ],
   "source": [
    "from sklearn import neighbors\n",
    "knn = neighbors.KNeighborsRegressor(n_neighbors=10)\n",
    "X = pd.DataFrame(df.wd_ft)\n",
    "\n",
    "Y = df.bonus_mill\n",
    "knn.fit(X, Y)"
   ]
  },
  {
   "cell_type": "code",
   "execution_count": 61,
   "metadata": {
    "scrolled": true
   },
   "outputs": [
    {
     "data": {
      "image/png": "[encoded data removed]",
      "text/plain": [
       "<matplotlib.figure.Figure at 0x108a7278>"
      ]
     },
     "metadata": {},
     "output_type": "display_data"
    }
   ],
   "source": [
    "# Set up our prediction line.\n",
    "T = np.arange(0, 602.8, 0.1)[:, np.newaxis]\n",
    "\n",
    "# Trailing underscores are a common convention for a prediction.\n",
    "Y_=knn.predict(T)\n",
    "\n",
    "#Trailing underscores are a common convention for a prediction.\n",
    "Y_ = knn.predict(T)\n",
    "plt.scatter(Y, X, c='k', label='data')\n",
    "plt.plot(T, Y_, c='r', label='prediction')\n",
    "plt.legend()\n",
    "plt.title('K=10, Unweighted')\n",
    "plt.show()"
   ]
  },
  {
   "cell_type": "markdown",
   "metadata": {},
   "source": [
    "# Deeper water depth (x-axis) is not an indicator of more bonus paid for the lease sale. "
   ]
  },
  {
   "cell_type": "code",
   "execution_count": 62,
   "metadata": {},
   "outputs": [
    {
     "data": {
      "image/png": "[encoded data removed]",
      "text/plain": [
       "<matplotlib.figure.Figure at 0x10b2bc18>"
      ]
     },
     "metadata": {},
     "output_type": "display_data"
    }
   ],
   "source": [
    "# Run the same model, this time with weights.\n",
    "knn_w = neighbors.KNeighborsRegressor(n_neighbors=10, weights='distance')\n",
    "X = pd.DataFrame(df.wd_ft)\n",
    "Y = df.bonus_mill\n",
    "knn_w.fit(X, Y)\n",
    "\n",
    "# Set up our prediction line.\n",
    "T = np.arange(0, 602.8, 0.1)[:, np.newaxis]\n",
    "\n",
    "# Trailing underscores are a common convention for a prediction.\n",
    "Y_ = knn_w.predict(T)\n",
    "\n",
    "plt.scatter(X, Y, c='k', label='data')\n",
    "plt.plot(T, Y_, c='r', label='prediction')\n",
    "plt.legend()\n",
    "plt.title('K=10, Weighted')\n",
    "plt.show()"
   ]
  },
  {
   "cell_type": "markdown",
   "metadata": {},
   "source": [
    "# Adding weighted average improves the model. Next we validate the model using cross validation. "
   ]
  },
  {
   "cell_type": "code",
   "execution_count": null,
   "metadata": {
    "collapsed": true
   },
   "outputs": [],
   "source": []
  },
  {
   "cell_type": "code",
   "execution_count": 63,
   "metadata": {
    "scrolled": true
   },
   "outputs": [
    {
     "name": "stdout",
     "output_type": "stream",
     "text": [
      "k= 5 Accuracy: -0.38 (+/- 0.52)\n",
      "Weighted Accuracy: -0.59 (+/- 0.74)\n"
     ]
    }
   ],
   "source": [
    "from sklearn.model_selection import cross_val_score\n",
    "\n",
    "score = cross_val_score(knn, X, Y, cv=5)\n",
    "print(\"k= 5 Accuracy: %0.2f (+/- %0.2f)\" % (score.mean(), score.std() * 2))\n",
    "\n",
    "score_w = cross_val_score(knn_w, X, Y, cv=5)\n",
    "print(\"Weighted Accuracy: %0.2f (+/- %0.2f)\" % (score_w.mean(), score_w.std() * 2))"
   ]
  },
  {
   "cell_type": "markdown",
   "metadata": {},
   "source": [
    "<h2> Both of these models performed poorly.<h2>"
   ]
  },
  {
   "cell_type": "code",
   "execution_count": null,
   "metadata": {
    "collapsed": true,
    "scrolled": true
   },
   "outputs": [],
   "source": []
  },
  {
   "cell_type": "markdown",
   "metadata": {
    "collapsed": true
   },
   "source": [
    "<h2> Previously we used KNN regression and next we use OLS on same data set.</h2>"
   ]
  },
  {
   "cell_type": "code",
   "execution_count": 64,
   "metadata": {
    "scrolled": true
   },
   "outputs": [],
   "source": [
    "import statsmodels.api as sm\n",
    "\n",
    "X = pd.DataFrame(df.wd_ft)\n",
    "Y = df.bonus_mill\n",
    "sm_OLS_test = sm.OLS(Y, X) "
   ]
  },
  {
   "cell_type": "code",
   "execution_count": 65,
   "metadata": {
    "scrolled": true
   },
   "outputs": [
    {
     "name": "stdout",
     "output_type": "stream",
     "text": [
      "\n",
      " \n",
      "                             OLS Regression Results                            \n",
      "==============================================================================\n",
      "Dep. Variable:             bonus_mill   R-squared:                       0.060\n",
      "Model:                            OLS   Adj. R-squared:                  0.060\n",
      "Method:                 Least Squares   F-statistic:                     383.1\n",
      "Date:                Thu, 14 Jun 2018   Prob (F-statistic):           9.32e-83\n",
      "Time:                        08:53:10   Log-Likelihood:                -24474.\n",
      "No. Observations:                6028   AIC:                         4.895e+04\n",
      "Df Residuals:                    6027   BIC:                         4.896e+04\n",
      "Df Model:                           1                                         \n",
      "Covariance Type:            nonrobust                                         \n",
      "==============================================================================\n",
      "                 coef    std err          t      P>|t|      [0.025      0.975]\n",
      "------------------------------------------------------------------------------\n",
      "wd_ft          0.0009    4.5e-05     19.573      0.000       0.001       0.001\n",
      "==============================================================================\n",
      "Omnibus:                     5340.749   Durbin-Watson:                   0.682\n",
      "Prob(Omnibus):                  0.000   Jarque-Bera (JB):           167267.401\n",
      "Skew:                           4.276   Prob(JB):                         0.00\n",
      "Kurtosis:                      27.348   Cond. No.                         1.00\n",
      "==============================================================================\n",
      "\n",
      "Warnings:\n",
      "[1] Standard Errors assume that the covariance matrix of the errors is correctly specified.\n"
     ]
    }
   ],
   "source": [
    "full_res = sm_OLS_test.fit() \n",
    "print (\"\\n \\n\",full_res.summary()) "
   ]
  },
  {
   "cell_type": "markdown",
   "metadata": {
    "collapsed": true
   },
   "source": [
    "<h2> OLS has also a very low R^2 indicating under fitting problem. </h2>"
   ]
  },
  {
   "cell_type": "code",
   "execution_count": 66,
   "metadata": {},
   "outputs": [
    {
     "data": {
      "text/plain": [
       "<matplotlib.axes._subplots.AxesSubplot at 0xcd8b7f0>"
      ]
     },
     "execution_count": 66,
     "metadata": {},
     "output_type": "execute_result"
    },
    {
     "data": {
      "image/png": "[encoded data removed]",
      "text/plain": [
       "<matplotlib.figure.Figure at 0xd3b1e10>"
      ]
     },
     "metadata": {},
     "output_type": "display_data"
    }
   ],
   "source": [
    "import seaborn as sns\n",
    "# Below correlation matrix shows a moderate linear relationship between water depth and being a major oil company\n",
    "sns.heatmap(df.corr())"
   ]
  },
  {
   "cell_type": "markdown",
   "metadata": {},
   "source": [
    "<h3> Using both models we can say that KNN and OLS learning algorithms are not good for this problem. Maybe our hypothesis space is too small for them to explores and learn? A possible improvement for future analysis is to engineer new features from existing ones and/or use more parameters helping to expand the hypothesis space.   </h3>"
   ]
  },
  {
   "cell_type": "code",
   "execution_count": null,
   "metadata": {
    "collapsed": true
   },
   "outputs": [],
   "source": []
  }
 ],
 "metadata": {
  "kernelspec": {
   "display_name": "Python 3",
   "language": "python",
   "name": "python3"
  },
  "language_info": {
   "codemirror_mode": {
    "name": "ipython",
    "version": 3
   },
   "file_extension": ".py",
   "mimetype": "text/x-python",
   "name": "python",
   "nbconvert_exporter": "python",
   "pygments_lexer": "ipython3",
   "version": "3.6.3"
  }
 },
 "nbformat": 4,
 "nbformat_minor": 1
}
