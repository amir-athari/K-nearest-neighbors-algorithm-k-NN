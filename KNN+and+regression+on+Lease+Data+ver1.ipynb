{
 "cells": [
  {
   "cell_type": "markdown",
   "metadata": {},
   "source": [
    "<h1> KNN on Lease data</h1> "
   ]
  },
  {
   "cell_type": "markdown",
   "metadata": {},
   "source": [
    "<h3> KNN without library</h3> "
   ]
  },
  {
   "cell_type": "code",
   "execution_count": 7,
   "metadata": {
    "collapsed": true
   },
   "outputs": [],
   "source": [
    "import numpy as np\n",
    "import pandas as pd\n",
    "import matplotlib.pyplot as plt\n",
    "import scipy\n",
    "%matplotlib inline\n",
    "import math\n",
    "import random\n",
    "import operator\n",
    "%matplotlib inline"
   ]
  },
  {
   "cell_type": "code",
   "execution_count": 8,
   "metadata": {
    "collapsed": true
   },
   "outputs": [],
   "source": [
    "path1 = (\"C:/Users/aath/Dropbox/MAEN/Thankful/Data/Owl/owl_lease_ML.csv\")"
   ]
  },
  {
   "cell_type": "code",
   "execution_count": 51,
   "metadata": {
    "collapsed": true
   },
   "outputs": [],
   "source": [
    "##################################################################################################\n",
    "# Load data\n",
    "##################################################################################################\n",
    "import csv\n",
    "import random\n",
    "\n",
    "Filename = path1\n",
    "split = 0.5\n",
    "\n",
    "#################################################################################################\n",
    "#Sample design\n",
    "num_lines = sum(1 for l in open(path1))   # Count number of lines\n",
    "sample_size = 10                          # Sample size\n",
    "size = int(num_lines / sample_size)       # Sample size % of total \n",
    "\n",
    "# The row indices to skip - make sure 0 is not included to keep the header!\n",
    "skip_idx = random.sample(range(1, num_lines), num_lines - size)\n",
    "\n",
    "\n",
    "def loadDataset(filename, split, training_set=[] , test_set=[]):\n",
    "    with open(filename, 'r') as csvfile:\n",
    "        lines = csv.reader(csvfile)\n",
    "        skiprows = skip_idx\n",
    "        dataset = list(lines)\n",
    "        for x in range(len(dataset)-1):\n",
    "            for y in range(4):\n",
    "                dataset[x][y] = float(dataset[x][y])\n",
    "            if random.random() < split:\n",
    "                training_set.append(dataset[x])\n",
    "            else:\n",
    "                test_set.append(dataset[x])"
   ]
  },
  {
   "cell_type": "code",
   "execution_count": 52,
   "metadata": {},
   "outputs": [
    {
     "data": {
      "text/plain": [
       "[[0.0, 100.0, 4842.0, 2.0, '1', '1988', '38'],\n",
       " [3.0, 66.67, 4793.0, 16.0, '2', '1988', '38'],\n",
       " [1.0, 66.67, 4583.0, 4.0, '3', '1988', '38'],\n",
       " [1.0, 33.33, 4583.0, 4.0, '3', '1988', '38'],\n",
       " [1.0, 100.0, 4340.0, 0.0, '6', '2015', '12'],\n",
       " [1.0, 100.0, 4340.0, 0.0, '7', '2015', '12'],\n",
       " [1.0, 100.0, 3953.0, 0.0, '8', '2016', '12'],\n",
       " [1.0, 100.0, 4228.0, 0.0, '12', '2015', '12'],\n",
       " [1.0, 100.0, 4386.0, 0.0, '13', '2015', '12'],\n",
       " [1.0, 100.0, 4025.0, 0.0, '14', '2015', '12'],\n",
       " [1.0, 100.0, 3743.0, 0.0, '15', '2015', '12'],\n",
       " [1.0, 100.0, 3697.0, 0.0, '16', '2015', '12'],\n",
       " [1.0, 100.0, 3809.0, 0.0, '17', '2016', '12']]"
      ]
     },
     "execution_count": 52,
     "metadata": {},
     "output_type": "execute_result"
    }
   ],
   "source": [
    "training_set"
   ]
  },
  {
   "cell_type": "code",
   "execution_count": 10,
   "metadata": {
    "collapsed": true
   },
   "outputs": [],
   "source": [
    "##################################################################################################\n",
    "# Distance function\n",
    "##################################################################################################\n",
    "import math\n",
    "\n",
    "def euclideanDistance(instance1, instance2, length): # length = # columns & last one is observations\n",
    "    distance = 0\n",
    "    lentgh = len(instance1)-1\n",
    "    for x in range(length):\n",
    "        distance += pow((float(instance1[x]) - float(instance2[x])), 2)\n",
    "    return math.sqrt(distance)"
   ]
  },
  {
   "cell_type": "code",
   "execution_count": 11,
   "metadata": {
    "collapsed": true
   },
   "outputs": [],
   "source": [
    "##################################################################################################\n",
    "# Neighhbor function\n",
    "##################################################################################################\n",
    "import operator\n",
    "\n",
    "def getNeighbors(training_set, testInstance, k):\n",
    "    distances = []\n",
    "    length = len(testInstance)-1\n",
    "    for x in range(len(training_set)):\n",
    "        dist = euclideanDistance(testInstance, training_set[x], length)\n",
    "        distances.append((training_set[x], dist))\n",
    "    distances.sort(key=operator.itemgetter(1)) \n",
    "    neighbors = []                        \n",
    "    for x in range(k):\n",
    "        neighbors.append(distances[x][0])\n",
    "    return neighbors"
   ]
  },
  {
   "cell_type": "code",
   "execution_count": 12,
   "metadata": {
    "collapsed": true
   },
   "outputs": [],
   "source": [
    "##################################################################################################\n",
    "# Get response\n",
    "##################################################################################################\n",
    "classVotes = {}\n",
    "def getResponse(neighbors):\n",
    "   # classVotes = {}\n",
    "    for x in range(len(neighbors)):\n",
    "        response = neighbors[x][-1]\n",
    "        if response in classVotes:\n",
    "            classVotes[response] += 1\n",
    "        else:\n",
    "            classVotes[response] = 1\n",
    "    sortedVotes = sorted(classVotes.items(), key=operator.itemgetter(1), reverse=True)\n",
    "    return sortedVotes[0][0]"
   ]
  },
  {
   "cell_type": "code",
   "execution_count": 13,
   "metadata": {
    "collapsed": true
   },
   "outputs": [],
   "source": [
    "##################################################################################################\n",
    "# Get accuracy measure\n",
    "##################################################################################################\n",
    "\n",
    "def getAccuracy(test_set, predictions):\n",
    "    correct = 0\n",
    "    for x in range(len(test_set)):\n",
    "        if test_set[x][-1] == predictions[x]:\n",
    "            correct += 1\n",
    "    return (correct/len(test_set)) * 100.0"
   ]
  },
  {
   "cell_type": "code",
   "execution_count": 43,
   "metadata": {},
   "outputs": [],
   "source": []
  },
  {
   "cell_type": "code",
   "execution_count": 44,
   "metadata": {},
   "outputs": [
    {
     "data": {
      "text/plain": [
       "20"
      ]
     },
     "execution_count": 44,
     "metadata": {},
     "output_type": "execute_result"
    }
   ],
   "source": [
    "num_lines"
   ]
  },
  {
   "cell_type": "code",
   "execution_count": 45,
   "metadata": {
    "collapsed": true
   },
   "outputs": [],
   "source": [
    "import random\n",
    "import csv\n",
    "\n",
    "with open(path1) as csvfile:\n",
    "    lines = csv.reader(csvfile)\n",
    "    skiprows = skip_idx\n",
    "    dataset = list(lines)"
   ]
  },
  {
   "cell_type": "code",
   "execution_count": null,
   "metadata": {
    "collapsed": true
   },
   "outputs": [],
   "source": []
  },
  {
   "cell_type": "code",
   "execution_count": 48,
   "metadata": {},
   "outputs": [],
   "source": [
    "training_set=[]\n",
    "test_set=[]\n",
    "split = 0.5 # % of training set\n",
    "filename = path1\n",
    "loadDataset(filename, split, training_set , test_set)"
   ]
  },
  {
   "cell_type": "code",
   "execution_count": 49,
   "metadata": {},
   "outputs": [
    {
     "data": {
      "text/plain": [
       "[[0.0, 100.0, 4842.0, 2.0, '1', '1988', '38'],\n",
       " [3.0, 66.67, 4793.0, 16.0, '2', '1988', '38'],\n",
       " [1.0, 66.67, 4583.0, 4.0, '3', '1988', '38'],\n",
       " [1.0, 33.33, 4583.0, 4.0, '3', '1988', '38'],\n",
       " [1.0, 100.0, 4340.0, 0.0, '6', '2015', '12'],\n",
       " [1.0, 100.0, 4340.0, 0.0, '7', '2015', '12'],\n",
       " [1.0, 100.0, 3953.0, 0.0, '8', '2016', '12'],\n",
       " [1.0, 100.0, 4228.0, 0.0, '12', '2015', '12'],\n",
       " [1.0, 100.0, 4386.0, 0.0, '13', '2015', '12'],\n",
       " [1.0, 100.0, 4025.0, 0.0, '14', '2015', '12'],\n",
       " [1.0, 100.0, 3743.0, 0.0, '15', '2015', '12'],\n",
       " [1.0, 100.0, 3697.0, 0.0, '16', '2015', '12'],\n",
       " [1.0, 100.0, 3809.0, 0.0, '17', '2016', '12']]"
      ]
     },
     "execution_count": 49,
     "metadata": {},
     "output_type": "execute_result"
    }
   ],
   "source": [
    "training_set"
   ]
  },
  {
   "cell_type": "code",
   "execution_count": 50,
   "metadata": {},
   "outputs": [
    {
     "data": {
      "text/plain": [
       "'C:/Users/aath/Dropbox/MAEN/Thankful/Data/Owl/owl_lease_ML.csv'"
      ]
     },
     "execution_count": 50,
     "metadata": {},
     "output_type": "execute_result"
    }
   ],
   "source": [
    "filename"
   ]
  },
  {
   "cell_type": "code",
   "execution_count": null,
   "metadata": {
    "collapsed": true
   },
   "outputs": [],
   "source": [
    "= neighbors.predict(np.c_[xx.ravel(), yy.ravel()])\n",
    "\n",
    "# Put the result into a color plot.\n",
    "Z = Z.reshape(xx.shape)\n",
    "plt.figure(1, figsize=(6, 4))"
   ]
  },
  {
   "cell_type": "code",
   "execution_count": 22,
   "metadata": {},
   "outputs": [
    {
     "data": {
      "text/plain": [
       "[[66.67, '38', 1.0, 4583.0, '1988', '3', 4.0],\n",
       " ['2015', 1.0, 4340.0, '6', 100.0, '12', 0.0],\n",
       " [2.0, '38', 4842.0, '1988', '1', 0.0, 100.0],\n",
       " [4793.0, 3.0, '1988', '38', '2', 16.0, 66.67],\n",
       " [100.0, 0.0, '2016', '8', 1.0, '12', 3953.0],\n",
       " [33.33, '3', 4583.0, '38', '1988', 4.0, 1.0],\n",
       " [100.0, 1.0, 3746.0, '4', '2013', 0.0, '12'],\n",
       " ['2015', '12', 0.0, 1.0, 4438.0, 100.0, '11'],\n",
       " ['100', 100.0, 1.0, 0.0, '2014', 4481.0, '9'],\n",
       " ['7', '12', '2015', 4340.0, 1.0, 100.0, 0.0]]"
      ]
     },
     "execution_count": 22,
     "metadata": {},
     "output_type": "execute_result"
    }
   ],
   "source": [
    "training_set"
   ]
  },
  {
   "cell_type": "code",
   "execution_count": null,
   "metadata": {
    "collapsed": true
   },
   "outputs": [],
   "source": [
    "##################################################################################################\n",
    "# Prediction\n",
    "##################################################################################################\n",
    "predictions=[]  \n",
    "k = 2\n",
    "    \n",
    "for x in range(len(test_set)):\n",
    "    neighbors = getNeighbors(training_set, test_set[x], k)\n",
    "    result = getResponse(neighbors)\n",
    "    predictions.append(result)\n",
    "    print('> predicted=' + repr(result) + ', actual=' + repr(test_set[x][-1]))\n",
    "\n",
    "accuracy = getAccuracy(test_set, predictions)\n",
    "print('Accuracy: ' + repr(accuracy) + '%')\n"
   ]
  },
  {
   "cell_type": "code",
   "execution_count": null,
   "metadata": {
    "collapsed": true
   },
   "outputs": [],
   "source": []
  },
  {
   "cell_type": "markdown",
   "metadata": {},
   "source": [
    " <h2> KNN wit sklearn library </h2>"
   ]
  },
  {
   "cell_type": "code",
   "execution_count": 243,
   "metadata": {},
   "outputs": [
    {
     "name": "stdout",
     "output_type": "stream",
     "text": [
      "The MSE is:0.075\n"
     ]
    }
   ],
   "source": [
    "from sklearn.neighbors import KNeighborsRegressor \n",
    "df1 = pd.read_excel(path1)\n",
    "y1 = df1.iloc[:,-1].copy()\n",
    "X = df1.loc[:, df1.columns != 'jazz'].copy()\n",
    "knnr = KNeighborsRegressor(n_neighbors=k)\n",
    "knnr.fit(X, y1)\n",
    "print (\"The MSE is:{}\".format(np.power(y1 - knnr.predict(X),k).mean()))"
   ]
  },
  {
   "cell_type": "code",
   "execution_count": null,
   "metadata": {
    "collapsed": true
   },
   "outputs": [],
   "source": []
  },
  {
   "cell_type": "markdown",
   "metadata": {
    "collapsed": true
   },
   "source": [
    " <h2> Same dataset using multivariable regression </h2>"
   ]
  },
  {
   "cell_type": "code",
   "execution_count": 219,
   "metadata": {
    "collapsed": true
   },
   "outputs": [],
   "source": [
    "df2 = pd.read_excel(path1)"
   ]
  },
  {
   "cell_type": "code",
   "execution_count": 220,
   "metadata": {
    "collapsed": true
   },
   "outputs": [],
   "source": [
    "# Randomly split the data into the training and test parts\n",
    "training_set2=df2.sample(frac=split, random_state=200)\n",
    "test_set2 = df2.drop(training_set2.index)"
   ]
  },
  {
   "cell_type": "code",
   "execution_count": 221,
   "metadata": {
    "collapsed": true
   },
   "outputs": [],
   "source": [
    "\n",
    "x_test = test_set.loc[:, test_set.columns != 'jazz'].copy()\n",
    "x_train = training_set.loc[:, training_set.columns != 'jazz'].copy()\n",
    "\n",
    "y_test = test_set.iloc[:,-1].copy()\n",
    "y_train = training_set.iloc[:,-1].copy()\n"
   ]
  },
  {
   "cell_type": "code",
   "execution_count": null,
   "metadata": {
    "collapsed": true
   },
   "outputs": [],
   "source": []
  },
  {
   "cell_type": "code",
   "execution_count": 211,
   "metadata": {},
   "outputs": [
    {
     "name": "stderr",
     "output_type": "stream",
     "text": [
      "C:\\Users\\aath\\AppData\\Local\\Continuum\\anaconda3\\lib\\site-packages\\statsmodels\\compat\\pandas.py:56: FutureWarning: The pandas.core.datetools module is deprecated and will be removed in a future version. Please use the pandas.tseries module instead.\n",
      "  from pandas.core import datetools\n"
     ]
    },
    {
     "name": "stdout",
     "output_type": "stream",
     "text": [
      "\n",
      " \n",
      "                             OLS Regression Results                            \n",
      "==============================================================================\n",
      "Dep. Variable:                   jazz   R-squared:                       0.953\n",
      "Model:                            OLS   Adj. R-squared:                  0.938\n",
      "Method:                 Least Squares   F-statistic:                     61.24\n",
      "Date:                Mon, 07 May 2018   Prob (F-statistic):           2.61e-06\n",
      "Time:                        14:50:55   Log-Likelihood:                 3.7901\n",
      "No. Observations:                  12   AIC:                            -1.580\n",
      "Df Residuals:                       9   BIC:                           -0.1254\n",
      "Df Model:                           3                                         \n",
      "Covariance Type:            nonrobust                                         \n",
      "==============================================================================\n",
      "                 coef    std err          t      P>|t|      [0.025      0.975]\n",
      "------------------------------------------------------------------------------\n",
      "duration    8.542e-05      0.001      0.127      0.902      -0.001       0.002\n",
      "loudness      -0.0194      0.003     -5.821      0.000      -0.027      -0.012\n",
      "bpm            0.0119      0.002      6.432      0.000       0.008       0.016\n",
      "==============================================================================\n",
      "Omnibus:                        4.223   Durbin-Watson:                   0.947\n",
      "Prob(Omnibus):                  0.121   Jarque-Bera (JB):                1.766\n",
      "Skew:                          -0.912   Prob(JB):                        0.414\n",
      "Kurtosis:                       3.453   Cond. No.                         14.8\n",
      "==============================================================================\n",
      "\n",
      "Warnings:\n",
      "[1] Standard Errors assume that the covariance matrix of the errors is correctly specified.\n"
     ]
    },
    {
     "name": "stderr",
     "output_type": "stream",
     "text": [
      "C:\\Users\\aath\\AppData\\Local\\Continuum\\anaconda3\\lib\\site-packages\\scipy\\stats\\stats.py:1334: UserWarning: kurtosistest only valid for n>=20 ... continuing anyway, n=12\n",
      "  \"anyway, n=%i\" % int(n))\n"
     ]
    }
   ],
   "source": [
    "import statsmodels.api as sm\n",
    "sm_OLS_test = sm.OLS(y_train, x_train) \n",
    "full_res = sm_OLS_test.fit() \n",
    "print (\"\\n \\n\",full_res.summary()) "
   ]
  },
  {
   "cell_type": "code",
   "execution_count": 213,
   "metadata": {
    "collapsed": true
   },
   "outputs": [],
   "source": [
    "predictions2 = full_res.predict(x_test)"
   ]
  },
  {
   "cell_type": "code",
   "execution_count": 214,
   "metadata": {
    "collapsed": true
   },
   "outputs": [],
   "source": [
    "residual = y_test - predictions2"
   ]
  },
  {
   "cell_type": "code",
   "execution_count": 215,
   "metadata": {},
   "outputs": [
    {
     "data": {
      "image/png": "[encoded data removed]",
      "text/plain": [
       "<matplotlib.figure.Figure at 0xd74aeb8>"
      ]
     },
     "metadata": {},
     "output_type": "display_data"
    }
   ],
   "source": [
    "# Outliers or skewness in error \n",
    "plt.hist(residual)\n",
    "plt.title('Residual counts')\n",
    "plt.xlabel('Residual')\n",
    "plt.ylabel('Count')\n",
    "plt.show()"
   ]
  },
  {
   "cell_type": "code",
   "execution_count": null,
   "metadata": {
    "collapsed": true
   },
   "outputs": [],
   "source": []
  }
 ],
 "metadata": {
  "kernelspec": {
   "display_name": "Python 3",
   "language": "python",
   "name": "python3"
  },
  "language_info": {
   "codemirror_mode": {
    "name": "ipython",
    "version": 3
   },
   "file_extension": ".py",
   "mimetype": "text/x-python",
   "name": "python",
   "nbconvert_exporter": "python",
   "pygments_lexer": "ipython3",
   "version": "3.6.3"
  }
 },
 "nbformat": 4,
 "nbformat_minor": 2
}
