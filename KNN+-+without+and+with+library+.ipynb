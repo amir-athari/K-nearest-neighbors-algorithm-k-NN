{
 "cells": [
  {
   "cell_type": "markdown",
   "metadata": {},
   "source": [
    "<h1> KNN without and with library</h1> "
   ]
  },
  {
   "cell_type": "markdown",
   "metadata": {},
   "source": [
    "<h3> KNN without library</h3> "
   ]
  },
  {
   "cell_type": "code",
   "execution_count": 2,
   "metadata": {
    "collapsed": true
   },
   "outputs": [],
   "source": [
    "import numpy as np\n",
    "import pandas as pd\n",
    "import matplotlib.pyplot as plt\n",
    "import scipy\n",
    "%matplotlib inline\n",
    "import math\n",
    "import random\n",
    "import operator\n",
    "%matplotlib inline"
   ]
  },
  {
   "cell_type": "code",
   "execution_count": 3,
   "metadata": {
    "collapsed": true
   },
   "outputs": [],
   "source": [
    "\n",
    "##################################################################################################\n",
    "music = pd.DataFrame()\n",
    "\n",
    "# Some data to play with.\n",
    "music['duration'] = [184, 134, 243, 186, 122, 197, 294, 382, 102, 264, \n",
    "                     205, 110, 307, 110, 397, 153, 190, 192, 210, 403,\n",
    "                     164, 198, 204, 253, 234, 190, 182, 401, 376, 102]\n",
    "music['loudness'] = [18, 34, 43, 36, 22, 9, 29, 22, 10, 24, \n",
    "                     20, 10, 17, 51, 7, 13, 19, 12, 21, 22,\n",
    "                     16, 18, 4, 23, 34, 19, 14, 11, 37, 42]\n",
    "\n",
    "music['bpm'] = [ 105, 90, 78, 75, 120, 110, 80, 100, 105, 60,\n",
    "                  70, 105, 95, 70, 90, 105, 70, 75, 102, 100,\n",
    "                  100, 95, 90, 80, 90, 80, 100, 105, 70, 65]\n",
    "\n",
    "# We know whether the songs in our training data are jazz or not.\n",
    "music['jazz'] = [ 1, 0, 0, 0, 1, 1, 0, 1, 1, 0,\n",
    "                  0, 1, 1, 0, 1, 1, 0, 1, 1, 1,\n",
    "                  1, 1, 1, 1, 0, 0, 1, 1, 0, 0]\n",
    "\n",
    "##################################################################################################\n",
    "# Export above to csv file\n",
    "##################################################################################################\n",
    "\n",
    "from pandas import ExcelWriter\n",
    "from pandas import ExcelFile\n",
    "import numpy as np\n",
    "\n",
    "path1 = (\"C:/Users/aath/Dropbox/MAEN/Thankful/Data/knn/jazz.xlsx\")\n",
    "path2 = (\"C:/Users/aath/Dropbox/MAEN/Thankful/Data/knn/jazz2.csv\")\n",
    "\n",
    "writer = ExcelWriter(path1)\n",
    "music.to_excel(writer,'Sheet1',index=False)\n",
    "writer.save()"
   ]
  },
  {
   "cell_type": "code",
   "execution_count": 4,
   "metadata": {
    "collapsed": true
   },
   "outputs": [],
   "source": [
    "##################################################################################################\n",
    "# Load data\n",
    "##################################################################################################\n",
    "import csv\n",
    "import random\n",
    "\n",
    "Filename = path2\n",
    "split = 0.5\n",
    "\n",
    "def loadDataset(filename, split, training_set=[] , test_set=[]):\n",
    "    with open(filename, 'r') as csvfile:\n",
    "        lines = csv.reader(csvfile)\n",
    "        dataset = list(lines)\n",
    "        for x in range(len(dataset)-1):\n",
    "            for y in range(4):\n",
    "                dataset[x][y] = float(dataset[x][y])\n",
    "            if random.random() < split:\n",
    "                training_set.append(dataset[x])\n",
    "            else:\n",
    "                test_set.append(dataset[x])"
   ]
  },
  {
   "cell_type": "code",
   "execution_count": 5,
   "metadata": {
    "collapsed": true
   },
   "outputs": [],
   "source": [
    "##################################################################################################\n",
    "# Distance function\n",
    "##################################################################################################\n",
    "import math\n",
    "\n",
    "def euclideanDistance(instance1, instance2, length): # length = # columns & last one is observations\n",
    "    distance = 0\n",
    "    lentgh = len(instance1)-1\n",
    "    for x in range(length):\n",
    "        distance += pow((float(instance1[x]) - float(instance2[x])), 2)\n",
    "    return math.sqrt(distance)"
   ]
  },
  {
   "cell_type": "code",
   "execution_count": 6,
   "metadata": {
    "collapsed": true
   },
   "outputs": [],
   "source": [
    "##################################################################################################\n",
    "# Neighhbor function\n",
    "##################################################################################################\n",
    "import operator\n",
    "\n",
    "def getNeighbors(training_set, testInstance, k):\n",
    "    distances = []\n",
    "    length = len(testInstance)-1\n",
    "    for x in range(len(training_set)):\n",
    "        dist = euclideanDistance(testInstance, training_set[x], length)\n",
    "        distances.append((training_set[x], dist))\n",
    "    distances.sort(key=operator.itemgetter(1)) \n",
    "    neighbors = []                        \n",
    "    for x in range(k):\n",
    "        neighbors.append(distances[x][0])\n",
    "    return neighbors"
   ]
  },
  {
   "cell_type": "code",
   "execution_count": 7,
   "metadata": {
    "collapsed": true
   },
   "outputs": [],
   "source": [
    "##################################################################################################\n",
    "# Get response\n",
    "##################################################################################################\n",
    "classVotes = {}\n",
    "def getResponse(neighbors):\n",
    "   # classVotes = {}\n",
    "    for x in range(len(neighbors)):\n",
    "        response = neighbors[x][-1]\n",
    "        if response in classVotes:\n",
    "            classVotes[response] += 1\n",
    "        else:\n",
    "            classVotes[response] = 1\n",
    "    sortedVotes = sorted(classVotes.items(), key=operator.itemgetter(1), reverse=True)\n",
    "    return sortedVotes[0][0]"
   ]
  },
  {
   "cell_type": "code",
   "execution_count": 8,
   "metadata": {
    "collapsed": true
   },
   "outputs": [],
   "source": [
    "##################################################################################################\n",
    "# Get accuracy measure\n",
    "##################################################################################################\n",
    "\n",
    "def getAccuracy(test_set, predictions):\n",
    "    correct = 0\n",
    "    for x in range(len(test_set)):\n",
    "        if test_set[x][-1] == predictions[x]:\n",
    "            correct += 1\n",
    "    return (correct/len(test_set)) * 100.0"
   ]
  },
  {
   "cell_type": "code",
   "execution_count": 9,
   "metadata": {
    "collapsed": true
   },
   "outputs": [],
   "source": [
    "import random\n",
    "import csv\n",
    "\n",
    "with open(path2) as csvfile:\n",
    "    lines = csv.reader(csvfile)\n",
    "    dataset = list(lines)"
   ]
  },
  {
   "cell_type": "code",
   "execution_count": 37,
   "metadata": {},
   "outputs": [],
   "source": [
    "training_set=[]\n",
    "test_set=[]\n",
    "split = 0.5 # % of training set\n",
    "filename = path2\n",
    "loadDataset(filename, split, training_set , test_set)"
   ]
  },
  {
   "cell_type": "code",
   "execution_count": 38,
   "metadata": {},
   "outputs": [
    {
     "name": "stdout",
     "output_type": "stream",
     "text": [
      "> predicted=1.0, actual=1.0\n",
      "> predicted=1.0, actual=0.0\n",
      "> predicted=1.0, actual=1.0\n",
      "> predicted=1.0, actual=1.0\n",
      "> predicted=1.0, actual=0.0\n",
      "> predicted=1.0, actual=1.0\n",
      "> predicted=1.0, actual=1.0\n",
      "> predicted=1.0, actual=0.0\n",
      "> predicted=1.0, actual=1.0\n",
      "> predicted=1.0, actual=0.0\n",
      "> predicted=1.0, actual=1.0\n",
      "> predicted=1.0, actual=1.0\n",
      "> predicted=1.0, actual=1.0\n",
      "> predicted=1.0, actual=0.0\n",
      "> predicted=1.0, actual=1.0\n",
      "> predicted=1.0, actual=1.0\n",
      "Accuracy: 68.75%\n"
     ]
    }
   ],
   "source": [
    "##################################################################################################\n",
    "# Prediction\n",
    "##################################################################################################\n",
    "predictions=[]  \n",
    "k = 3\n",
    "    \n",
    "for x in range(len(test_set)):\n",
    "    neighbors = getNeighbors(training_set, test_set[x], k)\n",
    "    result = getResponse(neighbors)\n",
    "    predictions.append(result)\n",
    "    print('> predicted=' + repr(result) + ', actual=' + repr(test_set[x][-1]))\n",
    "\n",
    "accuracy = getAccuracy(test_set, predictions)\n",
    "print('Accuracy: ' + repr(accuracy) + '%')\n"
   ]
  },
  {
   "cell_type": "code",
   "execution_count": null,
   "metadata": {},
   "outputs": [],
   "source": []
  },
  {
   "cell_type": "markdown",
   "metadata": {},
   "source": [
    " <h2> KNN wit sklearn library </h2>"
   ]
  },
  {
   "cell_type": "code",
   "execution_count": 39,
   "metadata": {},
   "outputs": [
    {
     "name": "stdout",
     "output_type": "stream",
     "text": [
      "The MSE is:0.0012345679012345826\n"
     ]
    }
   ],
   "source": [
    "from sklearn.neighbors import KNeighborsRegressor \n",
    "df1 = pd.read_excel(path1)\n",
    "y1 = df1.iloc[:,-1].copy()\n",
    "X = df1.loc[:, df1.columns != 'jazz'].copy()\n",
    "knnr = KNeighborsRegressor(n_neighbors=k)\n",
    "knnr.fit(X, y1)\n",
    "print (\"The MSE is:{}\".format(np.power(y1 - knnr.predict(X),k).mean()))"
   ]
  },
  {
   "cell_type": "code",
   "execution_count": null,
   "metadata": {
    "collapsed": true
   },
   "outputs": [],
   "source": []
  }
 ],
 "metadata": {
  "kernelspec": {
   "display_name": "Python 3",
   "language": "python",
   "name": "python3"
  },
  "language_info": {
   "codemirror_mode": {
    "name": "ipython",
    "version": 3
   },
   "file_extension": ".py",
   "mimetype": "text/x-python",
   "name": "python",
   "nbconvert_exporter": "python",
   "pygments_lexer": "ipython3",
   "version": "3.6.3"
  }
 },
 "nbformat": 4,
 "nbformat_minor": 2
}
